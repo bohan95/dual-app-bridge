{
 "cells": [
  {
   "cell_type": "markdown",
   "metadata": {},
   "source": [
    "# Import Required Libraries"
   ]
  },
  {
   "cell_type": "code",
   "execution_count": null,
   "metadata": {},
   "outputs": [],
   "source": [
    "import matplotlib.pyplot as plt\n",
    "import torch,yaml\n",
    "from utils import dict2namespace\n",
    "from runners.DiffusionBasedModelRunners.BBDMRunner import DualBrownianBridgeModel\n",
    "from torch.utils.data import DataLoader\n",
    "from runners.utils import get_dataset\n",
    "\n",
    "%matplotlib inline"
   ]
  },
  {
   "cell_type": "markdown",
   "metadata": {},
   "source": [
    "# Load Configs and Models"
   ]
  },
  {
   "cell_type": "code",
   "execution_count": null,
   "metadata": {},
   "outputs": [],
   "source": [
    "with open(\"configs/Dual.yaml\", 'r') as f:\n",
    "    dict_config = yaml.load(f, Loader=yaml.FullLoader)\n",
    "\n",
    "nconfig = dict2namespace(dict_config)\n",
    "nconfig.training.use_DDP = False\n",
    "nconfig.training.device = [torch.device(f\"cuda:1\")]\n",
    "batch_size = 1\n",
    "models = DualBrownianBridgeModel(nconfig.model)\n",
    "checkpoint = torch.load('results/Cityscapes/DualBrownianBridge/checkpoint/latest_model_200.pth', map_location='cpu')\n",
    "models.load_state_dict(checkpoint['model'], strict=False)\n"
   ]
  },
  {
   "cell_type": "markdown",
   "metadata": {},
   "source": [
    "# Load the Dataset"
   ]
  },
  {
   "cell_type": "code",
   "execution_count": null,
   "metadata": {},
   "outputs": [],
   "source": [
    "_, val_dataset, test_dataset = get_dataset(nconfig.data)\n",
    "if test_dataset is None:\n",
    "    test_dataset = val_dataset\n",
    "# test_dataset = val_dataset\n",
    "if nconfig.training.use_DDP:\n",
    "    test_sampler = torch.utils.data.distributed.DistributedSampler(test_dataset)\n",
    "    test_loader = DataLoader(test_dataset,\n",
    "                            batch_size=batch_size,\n",
    "                            shuffle=False,\n",
    "                            num_workers=1,\n",
    "                            drop_last=True,\n",
    "                            sampler=test_sampler)\n",
    "else:\n",
    "    test_loader = DataLoader(test_dataset,\n",
    "                            batch_size=batch_size,\n",
    "                            shuffle=False,\n",
    "                            num_workers=1,\n",
    "                            drop_last=True)\n",
    "\n",
    "test_iter = iter(test_loader)"
   ]
  },
  {
   "cell_type": "markdown",
   "metadata": {},
   "source": [
    "# Sampling Visualization\n"
   ]
  },
  {
   "cell_type": "code",
   "execution_count": null,
   "metadata": {},
   "outputs": [],
   "source": [
    "import os\n",
    "from PIL import Image\n",
    "\n",
    "from runners.utils import get_image_grid, make_dir\n",
    "\n",
    "\n",
    "models = models.to(nconfig.training.device[0])\n",
    "models.eval()\n",
    "\n",
    "sample_path =\"results\"\n",
    "sample_path = make_dir(os.path.join(sample_path, f'_sample'))\n",
    "print(sample_path)\n",
    "\n",
    "for i, ((x, x_name), (x_cond, x_cond_name)) in enumerate(test_loader):\n",
    "\n",
    "    print(x.shape[0])\n",
    "    batch_size = x.shape[0] if x.shape[0] < 4 else 4\n",
    "\n",
    "    x = x[0:batch_size].to(nconfig.training.device[0])\n",
    "    x_cond = x_cond[0:batch_size].to(nconfig.training.device[0])\n",
    "\n",
    "    grid_size = 1\n",
    "\n",
    "    sample = models.sample(x_cond, clip_denoised=nconfig.testing.clip_denoised).to('cpu')\n",
    "    image_grid = get_image_grid(sample, grid_size, to_normal=nconfig.data.dataset_config.to_normal)\n",
    "    im = Image.fromarray(image_grid)\n",
    "    im.save(os.path.join(sample_path, f'skip_sample_{i}.png'))\n",
    "\n",
    "    image_grid = get_image_grid(x_cond.to('cpu'), grid_size, to_normal=nconfig.data.dataset_config.to_normal)\n",
    "    im = Image.fromarray(image_grid)\n",
    "    im.save(os.path.join(sample_path, f'condition_{i}.png'))\n",
    "\n",
    "    image_grid = get_image_grid(x.to('cpu'), grid_size, to_normal=nconfig.data.dataset_config.to_normal)\n",
    "    im = Image.fromarray(image_grid)\n",
    "    im.save(os.path.join(sample_path, f'ground_truth_{i}.png'))\n",
    "    \n",
    "    fig, axes = plt.subplots(1, 3, figsize=(15, 5))\n",
    "    axes[0].imshow(get_image_grid(sample, grid_size, to_normal=nconfig.data.dataset_config.to_normal))\n",
    "    axes[0].set_title('Sample')\n",
    "    axes[0].axis('off')\n",
    "\n",
    "    axes[1].imshow(get_image_grid(x_cond.to('cpu'), grid_size, to_normal=nconfig.data.dataset_config.to_normal))\n",
    "    axes[1].set_title('Condition')\n",
    "    axes[1].axis('off')\n",
    "\n",
    "    axes[2].imshow(get_image_grid(x.to('cpu'), grid_size, to_normal=nconfig.data.dataset_config.to_normal))\n",
    "    axes[2].set_title('Ground Truth')\n",
    "    axes[2].axis('off')\n",
    "\n",
    "    plt.show()\n"
   ]
  }
 ],
 "metadata": {
  "kernelspec": {
   "display_name": "bbdm",
   "language": "python",
   "name": "python3"
  },
  "language_info": {
   "codemirror_mode": {
    "name": "ipython",
    "version": 3
   },
   "file_extension": ".py",
   "mimetype": "text/x-python",
   "name": "python",
   "nbconvert_exporter": "python",
   "pygments_lexer": "ipython3",
   "version": "3.9.16"
  }
 },
 "nbformat": 4,
 "nbformat_minor": 2
}
